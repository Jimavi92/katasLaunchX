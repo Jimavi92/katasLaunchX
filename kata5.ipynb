{
 "cells": [
  {
   "cell_type": "markdown",
   "metadata": {},
   "source": [
    "Distancia entre dos planetas"
   ]
  },
  {
   "cell_type": "code",
   "execution_count": 4,
   "metadata": {},
   "outputs": [
    {
     "name": "stdout",
     "output_type": "stream",
     "text": [
      "628949330\n",
      "390577533.93\n"
     ]
    }
   ],
   "source": [
    "#Variables para almacenar las distancias\n",
    "distancia_tierra=149597870\n",
    "distancia_jupiter=778547200\n",
    "distancia=distancia_jupiter-distancia_tierra\n",
    "print(distancia)\n",
    "#Convirtiendo a millas\n",
    "millas=distancia*0.621\n",
    "\n",
    "print(millas)"
   ]
  },
  {
   "cell_type": "markdown",
   "metadata": {},
   "source": [
    "Distancia del sol a,los planetas"
   ]
  },
  {
   "cell_type": "code",
   "execution_count": 9,
   "metadata": {},
   "outputs": [
    {
     "name": "stdout",
     "output_type": "stream",
     "text": [
      "50300000\n",
      "50300000\n"
     ]
    }
   ],
   "source": [
    "prime_planeta=input(\"Introduzca la distancia del primer planeta al sol\")\n",
    "segundo_planeta=input(\"Introduzca la distancia del segundo planeta al sol\")\n",
    "\n",
    "distancia=int(segundo_planeta)-int(prime_planeta)\n",
    "print(distancia)\n",
    "millas=distancia*0.621\n",
    "print(abs(distancia))"
   ]
  }
 ],
 "metadata": {
  "interpreter": {
   "hash": "d7e29a1d00bdbe3632a4926304c6aaea38f34f1b41dba22254bc84abec2f4475"
  },
  "kernelspec": {
   "display_name": "Python 3.10.2 64-bit",
   "language": "python",
   "name": "python3"
  },
  "language_info": {
   "codemirror_mode": {
    "name": "ipython",
    "version": 3
   },
   "file_extension": ".py",
   "mimetype": "text/x-python",
   "name": "python",
   "nbconvert_exporter": "python",
   "pygments_lexer": "ipython3",
   "version": "3.10.2"
  },
  "orig_nbformat": 4
 },
 "nbformat": 4,
 "nbformat_minor": 2
}
