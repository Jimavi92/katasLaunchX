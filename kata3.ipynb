{
 "cells": [
  {
   "cell_type": "code",
   "execution_count": 1,
   "metadata": {},
   "outputs": [
    {
     "name": "stdout",
     "output_type": "stream",
     "text": [
      "WARNING!!\n",
      " Se acerca un asteroide a la tierra.\n",
      " Tome sus precauciones. :(\n"
     ]
    }
   ],
   "source": [
    "velocidad_asteroide=49\n",
    "\n",
    "if(velocidad_asteroide>25):\n",
    "    print(\"WARNING!!\\n Se acerca un asteroide a la tierra.\\n Tome sus precauciones. :(\")\n",
    "else:\n",
    "    print(\"Ningun asteroide se acerca a la tierra\")"
   ]
  },
  {
   "cell_type": "code",
   "execution_count": 6,
   "metadata": {},
   "outputs": [
    {
     "name": "stdout",
     "output_type": "stream",
     "text": [
      "ATENCION\n",
      " Un asteoride se dirije a 19 km/s\n"
     ]
    }
   ],
   "source": [
    "velocidad_asteroide=19\n",
    "\n",
    "if(velocidad_asteroide>=20):\n",
    "    print(\"ATENCION\\n Se puede ver el rayo de luz desde la tierra\")\n",
    "elif(velocidad_asteroide==19):\n",
    "    print(\"ATENCION\\n Un asteoride se dirije a 19 km/s\")\n",
    "else:\n",
    "    print(\"No se puede ver el rayo de luz desde la tierra\")"
   ]
  },
  {
   "cell_type": "code",
   "execution_count": 8,
   "metadata": {},
   "outputs": [
    {
     "name": "stdout",
     "output_type": "stream",
     "text": [
      "Revisa el cielo!!\n",
      " Es posible que veas una luz\n"
     ]
    }
   ],
   "source": [
    "velocidad_asteroide=20\n",
    "tamanio_asteroide=25\n",
    "\n",
    "if(velocidad_asteroide>25 and (tamanio_asteroide>25 or tamanio_asteroide<1000)):\n",
    "    print(\"WARNING!!\\n Un asteroide de gran tamaño se dirige a la tieera.\\n Puede causar muchos daños\")\n",
    "elif(velocidad_asteroide>=20):\n",
    "    print(\"Revisa el cielo!!\\n Es posible que veas una luz\")\n",
    "elif(tamanio_asteroide<25):\n",
    "    print(\"Un asteroide se acerca.\\n Pero es posible que se desintegre al ingresar a la atmosfera.\")\n",
    "else:\n",
    "    print(\"Todo normal por aqui\")"
   ]
  }
 ],
 "metadata": {
  "interpreter": {
   "hash": "d7e29a1d00bdbe3632a4926304c6aaea38f34f1b41dba22254bc84abec2f4475"
  },
  "kernelspec": {
   "display_name": "Python 3.10.2 64-bit",
   "language": "python",
   "name": "python3"
  },
  "language_info": {
   "codemirror_mode": {
    "name": "ipython",
    "version": 3
   },
   "file_extension": ".py",
   "mimetype": "text/x-python",
   "name": "python",
   "nbconvert_exporter": "python",
   "pygments_lexer": "ipython3",
   "version": "3.10.2"
  },
  "orig_nbformat": 4
 },
 "nbformat": 4,
 "nbformat_minor": 2
}
