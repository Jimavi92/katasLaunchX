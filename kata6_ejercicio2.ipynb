{
 "cells": [
  {
   "cell_type": "code",
   "execution_count": null,
   "metadata": {},
   "outputs": [],
   "source": [
    "# Lista de planetas\n",
    "planets = ['Mercury', 'Venus', 'Earth', 'Mars', 'Jupiter', 'Saturn', 'Neptune']\n",
    "\n",
    "#Ingresadon el nombre del planeta\n",
    "print('Ingrese el nombre del planeta a buscar\\n Inicie con una letra mayuscula')\n",
    "planet=input()\n",
    "#Se obtiene el indice del planeta ingresado por el usuario\n",
    "index=planets.index(planet)\n",
    "# Se muestran los planetas mas cercanos al sol\n",
    "print(planets[0:index])\n",
    "# Se muestran los planetas mas alejados del sol\n",
    "print(planets[index+1,-1])\n"
   ]
  }
 ],
 "metadata": {
  "interpreter": {
   "hash": "d7e29a1d00bdbe3632a4926304c6aaea38f34f1b41dba22254bc84abec2f4475"
  },
  "kernelspec": {
   "display_name": "Python 3.10.2 64-bit",
   "language": "python",
   "name": "python3"
  },
  "language_info": {
   "name": "python",
   "version": "3.10.2"
  },
  "orig_nbformat": 4
 },
 "nbformat": 4,
 "nbformat_minor": 2
}
