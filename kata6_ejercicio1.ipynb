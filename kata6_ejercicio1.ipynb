{
 "cells": [
  {
   "cell_type": "code",
   "execution_count": null,
   "metadata": {},
   "outputs": [],
   "source": [
    "# Se crea la listas de planetas\n",
    "planets=['Mercurio','Venus','Tierra','Marte','Jupier','Saturno','Uranio','Neptuno']\n",
    "\n",
    "#Se muestra el numero de planetas\n",
    "print(len(planets))\n",
    "\n",
    "# Agregaomo pluton y mostramos el ultimo elemtno\n",
    "planets.append('Pluton')\n",
    "print(planets[-1])\n",
    "\n"
   ]
  }
 ],
 "metadata": {
  "interpreter": {
   "hash": "d7e29a1d00bdbe3632a4926304c6aaea38f34f1b41dba22254bc84abec2f4475"
  },
  "kernelspec": {
   "display_name": "Python 3.10.2 64-bit",
   "language": "python",
   "name": "python3"
  },
  "language_info": {
   "name": "python",
   "version": "3.10.2"
  },
  "orig_nbformat": 4
 },
 "nbformat": 4,
 "nbformat_minor": 2
}
